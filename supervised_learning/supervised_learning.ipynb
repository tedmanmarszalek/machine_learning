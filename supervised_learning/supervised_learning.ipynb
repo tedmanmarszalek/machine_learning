{
  "cells":[
    {
      "cell_type":"markdown",
      "source":[
        "# Supervised Learning "
      ],
      "metadata":{
        
      }
    },
    {
      "cell_type":"code",
      "source":[
        "import seaborn as sns \n",
        "from sklearn.tree import DecisionTreeClassifier\n",
        "from sklearn.base import BaseEstimator\n",
        "from sklearn.neighbors import KNeighborsClassifier\n",
        "from sklearn.neural_network import MLPClassifier\n",
        "from sklearn.ensemble import AdaBoostClassifier\n",
        "from sklearn.svm import SVC\n",
        "from sklearn.datasets import load_breast_cancer, load_boston, load_wine\n",
        "from scipy.stats import randint, uniform\n",
        "import pandas as pd \n",
        "from os import makedirs\n",
        "import numpy as np\n",
        "import matplotlib.pyplot as plt\n",
        "from sklearn.model_selection import train_test_split, learning_curve, validation_curve, RandomizedSearchCV, GridSearchCV\n",
        "from sklearn.metrics import accuracy_score\n",
        "sns.set()"
      ],
      "execution_count":1,
      "outputs":[
        
      ],
      "metadata":{
        
      }
    },
    {
      "cell_type":"code",
      "source":[
        "def evaluate(_estimator: BaseEstimator, _X_train, _X_test, _y_train, _y_test):\n",
        "    _estimator.fit(_X_train, _y_train.values.ravel())\n",
        "    y_hat = _estimator.predict(_X_test)\n",
        "    print(accuracy_score(_y_test, _estimator.predict(_X_test), normalize=True))"
      ],
      "execution_count":2,
      "outputs":[
        
      ],
      "metadata":{
        
      }
    },
    {
      "cell_type":"code",
      "source":[
        "def data_breastcancer(_args):\n",
        "    raw = load_breast_cancer()\n",
        "    X = pd.DataFrame(raw.data, columns=raw.feature_names)\n",
        "    y = pd.Categorical.from_codes(raw.target, raw.target_names)\n",
        "    y = pd.get_dummies(y, drop_first=True)\n",
        "    data_splits = train_test_split(X, y, test_size=_args['test_size'], random_state=_args['seed'])\n",
        "    _args[\"num_features\"] = X.shape[1]+1\n",
        "    return data_splits\n",
        "\n",
        "def data_census(_args):\n",
        "    raw = pd.read_csv('data\/adult.data.csv', header=0)\n",
        "    X = pd.DataFrame(raw, columns=['age','workclass','fnlwgt','education','education-num','marital-status','occupation','relationship','race','sex','capital-gain','capital-loss','hours-per-week','native-country'])\n",
        "    #### https:\/\/yanhan.github.io\/posts\/2017-02-15-analysis-of-the-adult-data-set-from-uci-machine-learning-repository.ipynb.html\n",
        "    X['age'] = X['age'].astype(float)\n",
        "    X['fnlwgt'] = X['fnlwgt'].astype(float)\n",
        "    X['education-num'] = X['education-num'].astype(float)\n",
        "    X['hours-per-week'] = X['hours-per-week'].astype(float)\n",
        "    X['capital-gain'] = X['capital-gain'].astype(float)\n",
        "    X['capital-loss'] = X['capital-loss'].astype(float)\n",
        "    X = X.drop([\"workclass\", \"education\", \"marital-status\", \"occupation\", \"relationship\",\"race\", \"sex\", \"native-country\"], axis=1)\n",
        "    # X = pd.get_dummies(X, columns=[\"workclass\", \"education\", \"marital-status\", \"occupation\", \"relationship\",\"race\", \"sex\", \"native-country\"])\n",
        "    raw['label'] = raw['label'].transform(lambda x: 0 if x == '<=50K' else 1)\n",
        "    # 0=<=50k>, 1=>50k\n",
        "    y = pd.Categorical.from_codes(raw['label'], [0, 1])\n",
        "    y = pd.get_dummies(y, drop_first=True)\n",
        "    data_splits = train_test_split(X, pd.get_dummies(y), test_size=_args['test_size'], random_state=_args['seed'])\n",
        "    _args[\"num_features\"] = X.shape[1]+1\n",
        "    return data_splits"
      ],
      "execution_count":3,
      "outputs":[
        
      ],
      "metadata":{
        
      }
    },
    {
      "cell_type":"code",
      "source":[
        "args = {\n",
        "    \"test_size\": 0.25,\n",
        "    \"seed\": 1,\n",
        "}"
      ],
      "execution_count":4,
      "outputs":[
        
      ],
      "metadata":{
        
      }
    },
    {
      "cell_type":"code",
      "source":[
        "def random_search(_estimator: BaseEstimator, _X_train, _X_test, _y_train, _y_test, _parameters, _n_iter=100, _n_jobs=None, _cv=5, _verbose=1):\n",
        "    model = RandomizedSearchCV(\n",
        "            estimator=_estimator,\n",
        "            # scoring=self.scorers,\n",
        "            # refit=config['score_type'],\n",
        "            param_distributions=_parameters, \n",
        "            random_state=args[\"seed\"], \n",
        "            n_iter=_n_iter, \n",
        "            cv=_cv, \n",
        "            verbose=_verbose, \n",
        "            n_jobs=_n_jobs\n",
        "        ).fit(_X_train, _y_train)\n",
        "    print('model_random', model.best_params_)\n",
        "    evaluate(model, _X_train, _X_test, _y_train, _y_test)\n",
        "    return model"
      ],
      "execution_count":5,
      "outputs":[
        
      ],
      "metadata":{
        
      }
    },
    {
      "cell_type":"code",
      "source":[
        "def grid_search(_estimator: BaseEstimator, _X_train, _X_test, _y_train, _y_test, _parameters, _n_jobs=None, _cv=5, _verbose=1):\n",
        "    model = GridSearchCV(\n",
        "            estimator=_estimator, \n",
        "            param_grid=_parameters, \n",
        "            cv=_cv, \n",
        "            n_jobs=_n_jobs,\n",
        "            verbose=_verbose\n",
        "        ).fit(_X_train, _y_train.values.ravel())\n",
        "    print('model_grid', model.best_params_)\n",
        "    evaluate(model, _X_train, _X_test, _y_train, _y_test)\n",
        "    return model"
      ],
      "execution_count":6,
      "outputs":[
        
      ],
      "metadata":{
        
      }
    },
    {
      "cell_type":"code",
      "source":[
        "#### CITE: https:\/\/scikit-learn.org\/stable\/auto_examples\/model_selection\/plot_validation_curve.html#sphx-glr-auto-examples-model-selection-plot-validation-curve-py\n",
        "def plot_validation_curve(\n",
        "    _name, \n",
        "    _estimator, \n",
        "    _X,\n",
        "    _y, \n",
        "    _data_id,\n",
        "    _model_complexity_parameter,\n",
        "    _model_complexity_parameter_range,\n",
        "    _cv=5, \n",
        "    _n_jobs=None,\n",
        "    _ylim=(0.7, 1.01),\n",
        "):\n",
        "    text = {'fontsize': 15, 'fontweight': 'bold'}\n",
        "    train_scores, test_scores = validation_curve(\n",
        "        _estimator, \n",
        "        _X, \n",
        "        _y, \n",
        "        param_name=_model_complexity_parameter, \n",
        "        param_range=_model_complexity_parameter_range,\n",
        "        scoring=\"accuracy\", \n",
        "        n_jobs=_n_jobs, \n",
        "        cv=_cv\n",
        "    )\n",
        "    train_scores_mean = np.mean(train_scores, axis=1)\n",
        "    train_scores_std = np.std(train_scores, axis=1)\n",
        "    test_scores_mean = np.mean(test_scores, axis=1)\n",
        "    test_scores_std = np.std(test_scores, axis=1)\n",
        "\n",
        "    makedirs(f'plots_{_data_id}\/{_name}', exist_ok=True)\n",
        "\n",
        "    plt.title(f\"Validation Curve: {_name}\", text)\n",
        "    plt.xlabel(_model_complexity_parameter, text)\n",
        "    plt.ylabel(\"Accuracy Score\", text)\n",
        "    plt.ylim(_ylim)\n",
        "    lw = 2\n",
        "    plt.plot(_model_complexity_parameter_range, train_scores_mean, label=\"Training score\", color=\"darkorange\", lw=lw)\n",
        "    plt.fill_between(_model_complexity_parameter_range, \n",
        "                     train_scores_mean - train_scores_std, \n",
        "                     train_scores_mean + train_scores_std, alpha=0.2, color=\"darkorange\", lw=lw)\n",
        "    plt.plot(_model_complexity_parameter_range, test_scores_mean, label=\"Cross-validation score\", color=\"navy\", lw=lw)\n",
        "    plt.fill_between(_model_complexity_parameter_range, \n",
        "                     test_scores_mean - test_scores_std,\n",
        "                     test_scores_mean + test_scores_std, alpha=0.2, color=\"navy\", lw=lw)\n",
        "    plt.legend(loc=\"best\")\n",
        "\n",
        "    plt.savefig(f'plots_{_data_id}\/{_name}\/validation_{_model_complexity_parameter}.png')\n",
        "    plt.show()\n",
        "#### END CITE"
      ],
      "execution_count":7,
      "outputs":[
        
      ],
      "metadata":{
        
      }
    },
    {
      "cell_type":"code",
      "source":[
        "#### CITE: https:\/\/scikit-learn.org\/stable\/auto_examples\/model_selection\/plot_learning_curve.html\n",
        "def plot_learning_curve(\n",
        "    _name, \n",
        "    _estimator, \n",
        "    _X, \n",
        "    _y, \n",
        "    _data_id,\n",
        "    _cv=5, \n",
        "    _n_jobs=None, \n",
        "    _ylim=(0.7, 1.01), \n",
        "    _train_sizes=np.linspace(.1, 1.0, 20)\n",
        "):\n",
        "    train_sizes, train_scores, test_scores, fit_times, _ = \\\n",
        "        learning_curve(\n",
        "            _estimator, \n",
        "            _X, \n",
        "            _y, \n",
        "            scoring=\"accuracy\", \n",
        "            cv=_cv, \n",
        "            n_jobs=_n_jobs, \n",
        "            train_sizes=_train_sizes, \n",
        "            return_times=True\n",
        "        )\n",
        "    train_scores_mean = np.mean(train_scores, axis=1)\n",
        "    train_scores_std = np.std(train_scores, axis=1)\n",
        "    test_scores_mean = np.mean(test_scores, axis=1)\n",
        "    test_scores_std = np.std(test_scores, axis=1)\n",
        "    fit_times_mean = np.mean(fit_times, axis=1)\n",
        "    fit_times_std = np.std(fit_times, axis=1)\n",
        "\n",
        "    # Plot \n",
        "    text = {'fontsize': 15, 'fontweight': 'bold'}\n",
        "    plt.title(f\"Learning Curve: {_name}\", text)\n",
        "    if _ylim is not None:\n",
        "        plt.ylim(_ylim)\n",
        "    plt.xlabel(\"Training examples\", text)\n",
        "    plt.ylabel(\"Accuracy Score\", text)\n",
        "    makedirs(f'plots_{_data_id}\/{_name}', exist_ok=True)\n",
        "\n",
        "    # Plot learning curve\n",
        "    plt.grid()\n",
        "    plt.fill_between(train_sizes, train_scores_mean - train_scores_std,\n",
        "                         train_scores_mean + train_scores_std, alpha=0.1,\n",
        "                         color=\"r\")\n",
        "    plt.fill_between(train_sizes, test_scores_mean - test_scores_std,\n",
        "                         test_scores_mean + test_scores_std, alpha=0.1,\n",
        "                         color=\"g\")\n",
        "    plt.plot(train_sizes, train_scores_mean, 'o-', color=\"r\", label=\"Training score\")\n",
        "    plt.plot(train_sizes, test_scores_mean, 'o-', color=\"g\", label=\"Cross-validation score\")\n",
        "    plt.legend(loc=\"best\")\n",
        "    plt.savefig(f'plots_{_data_id}\/{_name}\/learning_curve.png')\n",
        "    plt.show()\n",
        "\n",
        "    # Plot n_samples vs fit_times\n",
        "    plt.grid()\n",
        "    plt.plot(train_sizes, fit_times_mean, 'o-')\n",
        "    plt.fill_between(train_sizes, fit_times_mean - fit_times_std, fit_times_mean + fit_times_std, alpha=0.1)\n",
        "    plt.xlabel(\"Training examples\", text)\n",
        "    plt.ylabel(\"Fit Time (seconds)\", text)\n",
        "    plt.title(f\"Model Scalability: {_name}\", text)\n",
        "    plt.savefig(f'plots_{_data_id}\/{_name}\/scalability.png')\n",
        "    plt.show()\n",
        "\n",
        "    # Plot fit_time vs score\n",
        "    plt.grid()\n",
        "    plt.plot(fit_times_mean, test_scores_mean, 'o-')\n",
        "    plt.fill_between(fit_times_mean, test_scores_mean - test_scores_std, test_scores_mean + test_scores_std, alpha=0.1)\n",
        "    plt.xlabel(\"Fit Time (seconds)\", text)\n",
        "    plt.ylabel(\"Accuracy Score\", text)\n",
        "    plt.title(f\"Model Performance {_name}\", text)\n",
        "    plt.savefig(f'plots_{_data_id}\/{_name}\/performance.png')\n",
        "    plt.show()\n",
        "#### END CITE"
      ],
      "execution_count":8,
      "outputs":[
        
      ],
      "metadata":{
        
      }
    },
    {
      "cell_type":"markdown",
      "source":[
        "# Decision Tree"
      ],
      "metadata":{
        
      }
    },
    {
      "cell_type":"code",
      "source":[
        "for data_id in ['breastcancer', 'census']:\n",
        "    print(data_id)\n",
        "    if data_id == 'breastcancer':\n",
        "        X_train, X_test, y_train, y_test = data_breastcancer(args)\n",
        "        # _ = random_search(DecisionTreeClassifier(random_state=args['seed']), X_train, X_test, y_train, y_test, {\n",
        "        #   \"max_depth\": randint(1, 20),\n",
        "        #   \"max_features\": randint(1, args['num_features']),\n",
        "        #   \"min_samples_leaf\": randint(1, 20),\n",
        "        #   \"criterion\": [\"entropy\"]\n",
        "        # })\n",
        "        # # model_random {'criterion': 'entropy', 'max_depth': 11, 'max_features': 28, 'min_samples_leaf': 5}\n",
        "        # # 0.951048951048951\n",
        "\n",
        "        # _ = grid_search(DecisionTreeClassifier(random_state=args['seed']), X_train, X_test, y_train, y_test, {\n",
        "        #   \"max_depth\": [1, 2, 3, 4, 5, 6, 7, 8, 9, 10, 11, 12],\n",
        "        #   \"max_features\": [3, 5, 10, 15, 18, 23, 25, 26, 27, 28, 29, 30],\n",
        "        #   \"min_samples_leaf\": [1, 2, 3, 4, 5, 6, 7, 8, 9, 10, 11, 13, 15],\n",
        "        #   \"criterion\": [\"entropy\"]\n",
        "        # })\n",
        "        # model_grid {'criterion': 'entropy', 'max_depth': 4, 'max_features': 18, 'min_samples_leaf': 3}\n",
        "        # 0.916083916083916\n",
        "\n",
        "        # 0.951048951048951\n",
        "        kwargs = {\n",
        "            \"max_depth\": 11,\n",
        "            \"max_features\": 28,\n",
        "            \"min_samples_leaf\": 5,\n",
        "            \"criterion\": \"entropy\",\n",
        "            \"random_state\": args['seed']\n",
        "        }\n",
        "        evaluate(DecisionTreeClassifier(**kwargs), X_train, X_test, y_train, y_test)\n",
        "        plot_learning_curve('Decision Tree', DecisionTreeClassifier(**kwargs), \n",
        "            X_train, y_train.values.ravel(), data_id, _cv=5)\n",
        "        \n",
        "        plot_validation_curve('Decision Tree', DecisionTreeClassifier(**kwargs), \n",
        "            X_train, y_train.values.ravel(), data_id, 'max_depth', np.arange(1, 10), _cv=5)\n",
        "        plot_validation_curve('Decision Tree', DecisionTreeClassifier(**kwargs), \n",
        "            X_train, y_train.values.ravel(), data_id, 'max_features', np.arange(1, args['num_features']), _cv=5)\n",
        "        plot_validation_curve('Decision Tree', DecisionTreeClassifier(**kwargs), \n",
        "            X_train, y_train.values.ravel(), data_id, 'min_samples_leaf', np.arange(1, 30), _cv=5)\n",
        "            \n",
        "    elif data_id == 'census':\n",
        "        X_train, X_test, y_train, y_test = data_census(args)\n",
        "        # _ = random_search(DecisionTreeClassifier(random_state=args['seed']), X_train, X_test, y_train, y_test, {\n",
        "        #   \"max_depth\": randint(1, 100),\n",
        "        #   \"max_features\": randint(1, args['num_features']),\n",
        "        #   \"min_samples_leaf\": randint(1, 100),\n",
        "        #   \"criterion\": [\"entropy\"]\n",
        "        # })\n",
        "\n",
        "        kwargs = {\n",
        "            \"max_depth\": 11,\n",
        "            \"max_features\": 3,\n",
        "            \"min_samples_leaf\": 5,\n",
        "            \"criterion\": \"entropy\",\n",
        "            \"random_state\": args['seed']\n",
        "        }\n",
        "        evaluate(DecisionTreeClassifier(**kwargs), X_train, X_test, y_train, y_test)\n",
        "        plot_learning_curve('Decision Tree', DecisionTreeClassifier(**kwargs), \n",
        "            X_train, y_train.values.ravel(), data_id, _cv=5)\n",
        "\n",
        "        plot_validation_curve('Decision Tree', DecisionTreeClassifier(**kwargs), \n",
        "            X_train, y_train.values.ravel(), data_id, 'max_depth', np.arange(1, 30), _cv=5)\n",
        "        plot_validation_curve('Decision Tree', DecisionTreeClassifier(**kwargs), \n",
        "            X_train, y_train.values.ravel(), data_id, 'max_features', np.arange(1, args['num_features']), _cv=5)\n",
        "        plot_validation_curve('Decision Tree', DecisionTreeClassifier(**kwargs), \n",
        "            X_train, y_train.values.ravel(), data_id, 'min_samples_leaf', np.arange(1, 100), _cv=5)\n",
        "\n",
        "\n"
      ],
      "execution_count":26,
      "outputs":[
        {
          "name":"stdout",
          "text":[
            "breastcancer\n",
            "0.951048951048951\n",
            "census\n",
            "0.838471932195062\n"
          ],
          "output_type":"stream"
        },
        {
          "data":{
            "image\/png":"[encoded data removed]"
          },
          "metadata":{
            "image\/png":{
              "width":0,
              "height":0
            }
          },
          "output_type":"display_data"
        }
      ],
      "metadata":{
        
      }
    },
    {
      "cell_type":"markdown",
      "source":[
        "# Boosting"
      ],
      "metadata":{
        
      }
    },
    {
      "cell_type":"code",
      "source":[
        "for data_id in ['census']:\n",
        "    print(data_id)\n",
        "    if data_id == 'breastcancer':\n",
        "        X_train, X_test, y_train, y_test = data_breastcancer(args)\n",
        "        # _ = random_search(AdaBoostClassifier(random_state=args['seed']), X_train, X_test, y_train, y_test, {\n",
        "        #     \"n_estimators\": [50],\n",
        "        #     \"learning_rate\": [1.0]\n",
        "        # })\n",
        "        # # model_random {'n_estimators': 50, 'learning_rate': 1.0}\n",
        "        # # 0.958041958041958\n",
        "\n",
        "        # _ = grid_search(AdaBoostClassifier(random_state=args['seed']), X_train, X_test, y_train, y_test, {\n",
        "        #     \"n_estimators\": [25, 45, 46, 47, 48, 49, 50, 51, 52, 53, 54, 55, 75, 100],\n",
        "        #     \"learning_rate\": [0.001, 0.01, 0.1, 0.75, 1.0, 1.25]\n",
        "        # })\n",
        "        # # model_grid {'learning_rate': 0.75, 'n_estimators': 54}\n",
        "        # # 0.958041958041958\n",
        "\n",
        "        # 0.958041958041958\n",
        "        kwargs = {\n",
        "            \"n_estimators\": 50,\n",
        "            \"learning_rate\": 1.0,\n",
        "            'random_state': args['seed']\n",
        "        }\n",
        "\n",
        "        evaluate(AdaBoostClassifier(**kwargs), X_train, X_test, y_train, y_test)\n",
        "        plot_learning_curve('Boosting', AdaBoostClassifier(**kwargs), \n",
        "            X_train, y_train.values.ravel(), data_id)\n",
        "\n",
        "        plot_validation_curve('Boosting', AdaBoostClassifier(**kwargs), \n",
        "            X_train, y_train.values.ravel(), data_id, 'learning_rate', np.logspace(-6, -1, 12))\n",
        "        plot_validation_curve('Boosting', AdaBoostClassifier(**kwargs), \n",
        "            X_train, y_train.values.ravel(), data_id, 'n_estimators', np.arange(1, 100, 10))\n",
        "\n",
        "\n",
        "    elif data_id == 'census':\n",
        "\n",
        "        X_train, X_test, y_train, y_test = data_census(args)\n",
        "\n",
        "        kwargs = {\n",
        "            \"n_estimators\": 50,\n",
        "            \"learning_rate\": 0.8,\n",
        "            'random_state': args['seed']\n",
        "        }\n",
        "\n",
        "        evaluate(AdaBoostClassifier(**kwargs), X_train, X_test, y_train, y_test)\n",
        "        plot_learning_curve('Boosting', AdaBoostClassifier(**kwargs), \n",
        "            X_train, y_train.values.ravel(), data_id)\n",
        "\n",
        "        plot_validation_curve('Boosting', AdaBoostClassifier(**kwargs), \n",
        "            X_train, y_train.values.ravel(), data_id, 'learning_rate', np.logspace(-6, 1, 12))\n",
        "        plot_validation_curve('Boosting', AdaBoostClassifier(**kwargs), \n",
        "            X_train, y_train.values.ravel(), data_id, 'n_estimators', np.arange(1, 200, 50))\n",
        "\n",
        "\n",
        "\n",
        "\n"
      ],
      "execution_count":31,
      "outputs":[
        {
          "name":"stdout",
          "text":[
            "census\n"
          ],
          "output_type":"stream"
        },
        {
          "ename":"KeyboardInterrupt",
          "evalue":"KeyboardInterrupt: ",
          "traceback":[
            "\u001b[0;31m---------------------------------------------------------------------------",
            "Traceback (most recent call last)",
            "    at line 46 in <module>",
            "    at line 2 in evaluate(_estimator, _X_train, _X_test, _y_train, _y_test)",
            "KeyboardInterrupt: "
          ],
          "output_type":"error"
        }
      ],
      "metadata":{
        
      }
    },
    {
      "cell_type":"markdown",
      "source":[
        "# KNN"
      ],
      "metadata":{
        
      }
    },
    {
      "cell_type":"code",
      "source":[
        "for data_id in ['breastcancer', 'census']:\n",
        "  print(data_id)\n",
        "  if data_id == 'breastcancer':\n",
        "    X_train, X_test, y_train, y_test = data_breastcancer(args)\n",
        "    # _ = random_search(KNeighborsClassifier(), X_train, y_train.values.ravel(), {\n",
        "    #     \"n_neighbors\": randint(1, 15),\n",
        "    #     \"leaf_size\": randint(1, 30),\n",
        "    #     \"metric\": ['euclidean', 'manhattan', 'chebyshev', 'minkowski'],\n",
        "    #     \"weights\": [\"uniform\", \"distance\"],\n",
        "    #     \"algorithm\": ['auto', 'ball_tree', 'kd_tree', 'brute']\n",
        "    # })\n",
        "    # # model_random {'algorithm': 'auto', 'leaf_size': 26, 'metric': 'manhattan', 'n_neighbors': 8, 'weights': 'uniform'}\n",
        "    # # 0.9440559440559441\n",
        "\n",
        "    # _ = grid_search(KNeighborsClassifier(), X_train, y_train.values.ravel(), {\n",
        "    #     \"n_neighbors\": [6, 8, 10, 12], # range(1, 15, 3),\n",
        "    #     \"leaf_size\": [20, 25, 30], # range(1, 30, 5),\n",
        "    #     \"metric\": ['euclidean', 'manhattan', 'chebyshev', 'minkowski'],\n",
        "    #     \"weights\": [\"uniform\", \"distance\"],\n",
        "    #     \"algorithm\": ['auto', 'ball_tree', 'kd_tree', 'brute']\n",
        "    # })\n",
        "    # # model_grid {'algorithm': 'auto', 'leaf_size': 20, 'metric': 'manhattan', 'n_neighbors': 8, 'weights': 'uniform'}\n",
        "    # # 0.9440559440559441\n",
        "\n",
        "    # 0.9440559440559441\n",
        "    kwargs = {\n",
        "      'n_neighbors': 8,\n",
        "      \"leaf_size\": 20,\n",
        "      \"metric\": 'manhattan',\n",
        "      \"weights\": \"uniform\",\n",
        "      \"algorithm\": 'auto',\n",
        "      'n_jobs': None\n",
        "    }\n",
        "    evaluate(KNeighborsClassifier(**kwargs), X_train, X_test, y_train, y_test)\n",
        "    plot_learning_curve('K-Nearest Neighbors', KNeighborsClassifier(**kwargs), \n",
        "      X_train, y_train.values.ravel(), data_id)\n",
        "\n",
        "    plot_validation_curve('K-Nearest Neighbors', KNeighborsClassifier(**kwargs), \n",
        "      X_train, y_train.values.ravel(), data_id, 'n_neighbors', np.arange(1, 20, 1))\n",
        "    # plot_validation_curve('K-Nearest Neighbors', KNeighborsClassifier(**kwargs), \n",
        "    #   X_train, y_train.values.ravel(), data_id, 'leaf_size', np.arange(1, 100, 10))\n",
        "\n",
        "\n",
        "  elif data_id == 'census':\n",
        "    X_train, X_test, y_train, y_test = data_census(args)\n",
        "\n",
        "    kwargs = {\n",
        "      'n_neighbors': 8,\n",
        "      \"leaf_size\": 20,\n",
        "      \"metric\": 'manhattan',\n",
        "      \"weights\": \"uniform\",\n",
        "      \"algorithm\": 'auto',\n",
        "      'n_jobs': None\n",
        "    }\n",
        "    evaluate(KNeighborsClassifier(**kwargs), X_train, X_test, y_train, y_test)\n",
        "    plot_learning_curve('K-Nearest Neighbors', KNeighborsClassifier(**kwargs), \n",
        "    X_train, y_train.values.ravel(), data_id)\n",
        "\n",
        "    plot_validation_curve('K-Nearest Neighbors', KNeighborsClassifier(**kwargs), \n",
        "    X_train, y_train.values.ravel(), data_id, 'n_neighbors', np.arange(1, 100, 10))\n",
        "    plot_validation_curve('K-Nearest Neighbors', KNeighborsClassifier(**kwargs), \n",
        "    X_train, y_train.values.ravel(), data_id, 'leaf_size', np.arange(1, 100, 10))\n",
        "\n",
        "\n",
        "\n"
      ],
      "execution_count":33,
      "outputs":[
        {
          "name":"stdout",
          "text":[
            "breastcancer\n",
            "0.9440559440559441\n",
            "census\n",
            "0.8056749785038693\n"
          ],
          "output_type":"stream"
        },
        {
          "data":{
            "image\/png":"[encoded data removed]"
          },
          "metadata":{
            "image\/png":{
              "width":0,
              "height":0
            }
          },
          "output_type":"display_data"
        }
      ],
      "metadata":{
        
      }
    },
    {
      "cell_type":"markdown",
      "source":[
        "# Neural Network"
      ],
      "metadata":{
        
      }
    },
    {
      "cell_type":"code",
      "source":[
        "for data_id in ['breastcancer', 'census']:\n",
        "    print(data_id)\n",
        "    if data_id == 'breastcancer':\n",
        "        X_train, X_test, y_train, y_test = data_breastcancer(args)\n",
        "        # _ = random_search(MLPClassifier(random_state=args['seed'], early_stopping=True), X_train, y_train.values.ravel(), {\n",
        "        #     'hidden_layer_sizes': [(10,), (10, 10, 10), (5, 5, 5, 5), (100,), (50, 50, 50), (50, 100, 50)],  # [x for x in product((10,20,30,40,50,100), repeat=3)]\n",
        "        #     'alpha': [0.0001, 0.001, 0.01, 0.1],  # [0.0001, 0.0005, 0.001, 0.005, 0.01, 0.05, 0.1]\n",
        "        #     'batch_size': [10, 50, 100],\n",
        "        #     'momentum': np.arange(0.1, 1.0, 0.1),\n",
        "        #     'activation': ['tanh', 'relu'], \n",
        "        #     'solver': ['lbfgs', 'sgd', 'adam'],\n",
        "        #     'learning_rate': ['constant', 'invscaling', 'adaptive'], \n",
        "        # }, _n_iter=100)\n",
        "        # model_random {'solver': 'lbfgs', 'momentum': 0.8, 'learning_rate': 'adaptive', 'hidden_layer_sizes': (50, 50, 50), 'batch_size': 100, 'alpha': 0.01, 'activation': 'relu'}\n",
        "        # 0.91608391608391\n",
        "\n",
        "        # _ = grid_search(MLPClassifier(random_state=args['seed'], early_stopping=True), X_train, y_train.values.ravel(), {\n",
        "        #     'hidden_layer_sizes': [(50, 50, 50)],  # [x for x in product((10,20,30,40,50,100), repeat=3)]\n",
        "        #     'alpha': [0.001, 0.01, 0.1],  # [0.0001, 0.0005, 0.001, 0.005, 0.01, 0.05, 0.1]\n",
        "        #     'batch_size': [200, 300],\n",
        "        #     'momentum': np.arange(0.1, 1.0, 0.1),\n",
        "        #     'activation': ['tanh', 'relu'], \n",
        "        #     'solver': ['lbfgs', 'sgd', 'adam'],\n",
        "        #     'learning_rate': ['adaptive'], \n",
        "        # })\n",
        "        # # model_grid {'activation': 'relu', 'alpha': 0.1, 'hidden_layer_sizes': (50, 50, 50), 'learning_rate': 'constant', 'solver': 'adam'}\n",
        "        # # 0.9300699300699301\n",
        "\n",
        "        # 0.9300699300699301\n",
        "        kwargs = {\n",
        "            'hidden_layer_sizes': (50, 50, 50),\n",
        "            'alpha': 0.1,\n",
        "            'activation': 'relu',\n",
        "            'solver': 'adam',\n",
        "            'learning_rate': 'adaptive',\n",
        "            'random_state': args['seed'],\n",
        "            'early_stopping': True\n",
        "        }\n",
        "        evaluate(MLPClassifier(**kwargs), X_train, X_test, y_train, y_test)\n",
        "        plot_learning_curve('Neural Network', MLPClassifier(**kwargs), \n",
        "            X_train, y_train.values.ravel(), data_id)\n",
        "\n",
        "        plot_validation_curve('Neural Network', MLPClassifier(**kwargs), \n",
        "            X_train, y_train.values.ravel(), data_id, 'alpha', np.logspace(-6, -1, 12))\n",
        "        plot_validation_curve('Neural Network', MLPClassifier(**kwargs), \n",
        "            X_train, y_train.values.ravel(), data_id, 'momentum', np.arange(0.1, 1.0, 0.1))\n",
        "\n",
        "    elif data_id == 'census':\n",
        "        X_train, X_test, y_train, y_test = data_census(args)\n",
        "\n",
        "        kwargs = {\n",
        "            'hidden_layer_sizes': (50, 50, 50),\n",
        "            'alpha': 0.1,\n",
        "            'activation': 'relu',\n",
        "            'solver': 'adam',\n",
        "            'learning_rate': 'adaptive',\n",
        "            'random_state': args['seed'],\n",
        "            'early_stopping': True\n",
        "        }\n",
        "        evaluate(MLPClassifier(**kwargs), X_train, X_test, y_train, y_test)\n",
        "        plot_learning_curve('Neural Network', MLPClassifier(**kwargs), \n",
        "            X_train, y_train.values.ravel(), data_id)\n",
        "\n",
        "        plot_validation_curve('Neural Network', MLPClassifier(**kwargs), \n",
        "            X_train, y_train.values.ravel(), data_id, 'alpha', np.logspace(-6, -1, 12)) # \n",
        "        plot_validation_curve('Neural Network', MLPClassifier(**kwargs), \n",
        "            X_train, y_train.values.ravel(), data_id, 'momentum', np.arange(0.1, 1.0, 0.1))\n",
        "\n"
      ],
      "execution_count":34,
      "outputs":[
        {
          "name":"stdout",
          "text":[
            "breastcancer\n",
            "0.9300699300699301\n",
            "census\n",
            "0.8033411128853949\n"
          ],
          "output_type":"stream"
        },
        {
          "data":{
            "image\/png":"[encoded data removed]"
          },
          "metadata":{
            "image\/png":{
              "width":0,
              "height":0
            }
          },
          "output_type":"display_data"
        }
      ],
      "metadata":{
        
      }
    },
    {
      "cell_type":"markdown",
      "source":[
        "# SVM (Linear Kernel)"
      ],
      "metadata":{
        
      }
    },
    {
      "cell_type":"code",
      "source":[
        "for data_id in ['breastcancer', 'census']:\n",
        "    print(data_id)\n",
        "    if data_id == 'breastcancer':\n",
        "\n",
        "        X_train, X_test, y_train, y_test = data_breastcancer(args)\n",
        "\n",
        "        # _ = random_search(SVC(random_state=args['seed'], kernel='linear'), X_train, X_test, y_train, y_test, {\n",
        "        #     'C': [0.0001, 0.00001, 0.001],\n",
        "        # })\n",
        "\n",
        "        # _ = grid_search(SVC(random_state=args['seed'], kernel='linear'), X_train, X_test, y_train, y_test, {\n",
        "        #     'C': [0.1, 1., 10., 100., 1000.],\n",
        "        # })\n",
        "\n",
        "        # 0.9370629370629371\n",
        "        kwargs = {\n",
        "            'C': 0.01,\n",
        "            'kernel': 'linear',\n",
        "            'random_state': args['seed']\n",
        "        }\n",
        "        evaluate(SVC(**kwargs), X_train, X_test, y_train, y_test )\n",
        "        plot_learning_curve('SVM (Linear Kernel)', SVC(**kwargs), \n",
        "            X_train, y_train.values.ravel(), data_id)\n",
        "\n",
        "        plot_validation_curve('SVM (Linear Kernel)', SVC(**kwargs), \n",
        "            X_train, y_train.values.ravel(), data_id, 'C', np.logspace(-6, -1, 12))\n",
        "\n",
        "\n",
        "    elif data_id == 'census':\n",
        "        X_train, X_test, y_train, y_test = data_census(args)\n",
        "\n",
        "        kwargs = {\n",
        "            'C': 0.01,\n",
        "            'kernel': 'linear',\n",
        "            'random_state': args['seed']\n",
        "        }\n",
        "        evaluate(SVC(**kwargs), X_train, X_test, y_train, y_test )\n",
        "        plot_learning_curve('SVM (Linear Kernel)', SVC(**kwargs), \n",
        "            X_train, y_train.values.ravel(), data_id)\n",
        "\n",
        "        plot_validation_curve('SVM (Linear Kernel)', SVC(**kwargs), \n",
        "            X_train, y_train.values.ravel(), data_id, 'C', np.logspace(-6, -1, 12))"
      ],
      "execution_count":17,
      "outputs":[
        {
          "name":"stdout",
          "text":[
            "breastcancer\n",
            "0.9370629370629371\n",
            "census\n"
          ],
          "output_type":"stream"
        },
        {
          "data":{
            "image\/png":"[encoded data removed]"
          },
          "metadata":{
            "image\/png":{
              "width":0,
              "height":0
            }
          },
          "output_type":"display_data"
        }
      ],
      "metadata":{
        
      }
    },
    {
      "cell_type":"markdown",
      "source":[
        "# SVM (Poly Kernel)"
      ],
      "metadata":{
        
      }
    },
    {
      "cell_type":"code",
      "source":[
        "for data_id in ['breastcancer', 'census']:\n",
        "    print(data_id)\n",
        "    if data_id == 'breastcancer':\n",
        "\n",
        "        X_train, X_test, y_train, y_test = data_breastcancer(args)\n",
        "\n",
        "        # _ = random_search(SVC(random_state=args['seed'], kernel='poly'), X_train, X_test, y_train, y_test, {\n",
        "        #     'C': [0.0001, 0.00001, 0.001],\n",
        "        #     'gamma': [0.0001, 0.00001, 0.001]\n",
        "        # })\n",
        "\n",
        "        # _ = grid_search(SVC(random_state=args['seed'], kernel='poly'), X_train, X_test, y_train, y_test, {\n",
        "        #     'C': [0.001],\n",
        "        #     'gamma': [0.001]\n",
        "        # })\n",
        "\n",
        "        # 0.951048951048951\n",
        "        kwargs = {\n",
        "            # 'C': 1.0,\n",
        "            'gamma': 'auto',\n",
        "            'kernel': 'poly', # {‘linear’, ‘poly’, ‘rbf’, ‘sigmoid’, ‘precomputed’}\n",
        "            'random_state': args['seed']\n",
        "        }\n",
        "        evaluate(SVC(**kwargs), X_train, X_test, y_train, y_test)\n",
        "        plot_learning_curve('SVM (Poly Kernel)', SVC(**kwargs), \n",
        "            X_train, y_train.values.ravel(), data_id)\n",
        "\n",
        "        plot_validation_curve('SVM (Poly Kernel)', SVC(**kwargs), \n",
        "            X_train, y_train.values.ravel(), data_id, 'gamma', np.logspace(-6, -1, 12))\n",
        "\n",
        "    elif data_id == 'census':\n",
        "        X_train, X_test, y_train, y_test = data_census(args)\n",
        "\n",
        "        kwargs = {\n",
        "            'C': 0.001,\n",
        "            'gamma': 0.001,\n",
        "            'kernel': 'poly', # {‘linear’, ‘poly’, ‘rbf’, ‘sigmoid’, ‘precomputed’}\n",
        "            'random_state': args['seed']\n",
        "        }\n",
        "        evaluate(SVC(**kwargs), X_train, X_test, y_train, y_test)\n",
        "        plot_learning_curve('SVM (Poly Kernel)', SVC(**kwargs), \n",
        "            X_train, y_train.values.ravel(), data_id)\n",
        "\n",
        "        plot_validation_curve('SVM (Poly Kernel)', SVC(**kwargs), \n",
        "            X_train, y_train.values.ravel(), data_id, 'gamma', np.logspace(-6, -1, 12))"
      ],
      "execution_count":18,
      "outputs":[
        {
          "name":"stdout",
          "text":[
            "breastcancer\n"
          ],
          "output_type":"stream"
        }
      ],
      "metadata":{
        
      }
    }
  ],
  "metadata":{
    
  },
  "nbformat":4,
  "nbformat_minor":0
}